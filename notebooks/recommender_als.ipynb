{
  "nbformat": 4,
  "nbformat_minor": 0,
  "metadata": {
    "colab": {
      "provenance": [],
      "gpuType": "T4",
      "authorship_tag": "ABX9TyPBEL3cjsUBFK/PWJKbupju",
      "include_colab_link": true
    },
    "kernelspec": {
      "name": "python3",
      "display_name": "Python 3"
    },
    "language_info": {
      "name": "python"
    }
  },
  "cells": [
    {
      "cell_type": "markdown",
      "metadata": {
        "id": "view-in-github",
        "colab_type": "text"
      },
      "source": [
        "<a href=\"https://colab.research.google.com/github/lovrodukic/music-recommendation/blob/main/notebooks/recommender_als.ipynb\" target=\"_parent\"><img src=\"https://colab.research.google.com/assets/colab-badge.svg\" alt=\"Open In Colab\"/></a>"
      ]
    },
    {
      "cell_type": "markdown",
      "source": [
        "# Data Preprocessing\n",
        "\n",
        "Preprocess Last.fm dataset to prepare it for building a recommendation system."
      ],
      "metadata": {
        "id": "5Wh3LBLpfmme"
      }
    },
    {
      "cell_type": "code",
      "source": [
        "!wget -P /content/datasets https://files.grouplens.org/datasets/hetrec2011/hetrec2011-lastfm-2k.zip\n",
        "!unzip /content/datasets/hetrec2011-lastfm-2k.zip -d /content/datasets\n",
        "!ls /content/datasets\n",
        "# Install required libraries\n",
        "!pip install pandas numpy scikit-learn matplotlib implicit"
      ],
      "metadata": {
        "id": "qYmyBVSGhdIg"
      },
      "execution_count": null,
      "outputs": []
    },
    {
      "cell_type": "code",
      "execution_count": null,
      "metadata": {
        "id": "EkXZQg6JczB7"
      },
      "outputs": [],
      "source": [
        "import matplotlib.pyplot as plt\n",
        "import sklearn\n",
        "import seaborn as sns\n",
        "import numpy as np\n",
        "import pandas as pd\n",
        "import scipy"
      ]
    },
    {
      "cell_type": "code",
      "source": [
        "def load_user_artists(user_artists_file):\n",
        "    \"\"\"\n",
        "    Return a CSR matrix of user_artistst.dat\n",
        "    \"\"\"\n",
        "    user_artists = pd.read_csv(user_artists_file, sep='\\t')\n",
        "    user_artists.set_index(['userID', 'artistID'], inplace=True)\n",
        "    coo = scipy.sparse.coo_matrix(\n",
        "        (\n",
        "            user_artists.weight.astype(float),\n",
        "            (\n",
        "                user_artists.index.get_level_values(0),\n",
        "                user_artists.index.get_level_values(1),\n",
        "            ),\n",
        "        )\n",
        "    )\n",
        "\n",
        "    return coo.tocsr()\n",
        "\n",
        "user_artists = load_user_artists('/content/datasets/user_artists.dat')\n",
        "print(f\"Sparse matrix shape: {user_artists.shape}\")"
      ],
      "metadata": {
        "collapsed": true,
        "id": "4M7RnBRNdEtL"
      },
      "execution_count": null,
      "outputs": []
    },
    {
      "cell_type": "code",
      "source": [
        "def load_artists(artists_file):\n",
        "    \"\"\"\n",
        "    Load artists and return in a dataframe format\n",
        "    \"\"\"\n",
        "    artists = pd.read_csv(artists_file, sep='\\t')\n",
        "    artists = artists.set_index('id')\n",
        "\n",
        "    return artists\n",
        "\n",
        "artists = load_artists('/content/datasets/artists.dat')\n",
        "print(f\"Dataframe shape: {artists.shape}\")"
      ],
      "metadata": {
        "id": "TBYoOW7JsqSy"
      },
      "execution_count": null,
      "outputs": []
    },
    {
      "cell_type": "markdown",
      "source": [
        "# Model Training\n",
        "\n",
        "Training a collaborative filtering model using Alternating Least Squares (ALS)"
      ],
      "metadata": {
        "id": "gkcZu-xFgHiX"
      }
    },
    {
      "cell_type": "code",
      "source": [
        "from implicit import als\n",
        "\n",
        "model = als.AlternatingLeastSquares(\n",
        "    factors=200,\n",
        "    regularization=0.05,\n",
        "    iterations=50\n",
        ")\n",
        "\n",
        "model.fit(user_artists)\n",
        "print(\"Training complete.\")"
      ],
      "metadata": {
        "id": "YLqP5mV5gRIo"
      },
      "execution_count": null,
      "outputs": []
    },
    {
      "cell_type": "markdown",
      "source": [
        "# Model Evaluation\n",
        "\n",
        "Evaluate the performance of the model using precision and recall"
      ],
      "metadata": {
        "id": "fdVHUQblmn1z"
      }
    },
    {
      "cell_type": "code",
      "source": [
        "def get_als_recommendations(model, user_id, user_artists, n_recommendations=5):\n",
        "    \"\"\"\n",
        "    Generate top n recommendations for a specific user using the ALS model.\n",
        "    \"\"\"\n",
        "    recommended_items, scores = model.recommend(\n",
        "        userid=user_id,\n",
        "        user_items=user_artists[n_recommendations],\n",
        "        N=n_recommendations\n",
        "    )\n",
        "\n",
        "    recommendations = [\n",
        "        artists.loc[artist_id, 'name'] for artist_id in recommended_items\n",
        "    ]\n",
        "\n",
        "    return recommendations, scores\n",
        "\n",
        "user_id = 2\n",
        "recommendations, scores = get_als_recommendations(\n",
        "    model, user_id, user_artists, n_recommendations=5\n",
        ")\n",
        "\n",
        "for (artist, score) in zip(recommendations, scores):\n",
        "    print(f\"{artist}: {score}\")"
      ],
      "metadata": {
        "id": "oRVNq73Yn_9z"
      },
      "execution_count": null,
      "outputs": []
    },
    {
      "cell_type": "code",
      "source": [
        "def mean_percentile_ranking(model, user_artists, k=10):\n",
        "    \"\"\"\n",
        "    Calculate Mean Percentile Ranking (MPR) for the ALS model\n",
        "    \"\"\"\n",
        "    num_users = user_artists.shape[0]\n",
        "    mpr_sum = 0\n",
        "    num_evaluated_users = 0\n",
        "\n",
        "    user_items = user_artists\n",
        "\n",
        "    for user_id in range(num_users):\n",
        "        user_interacted_items = user_items[user_id].indices\n",
        "        if len(user_interacted_items) == 0:\n",
        "            continue\n",
        "\n",
        "        # Get all items ranked by the model for this user\n",
        "        recommended_items, scores = model.recommend(\n",
        "            userid=user_id,\n",
        "            user_items=user_items,\n",
        "            N=user_items.shape[1],\n",
        "            filter_already_liked_items=False\n",
        "        )\n",
        "\n",
        "        # Calculate the rank of each item the user interacted with\n",
        "        ranks = np.argsort(np.argsort(-scores))\n",
        "        user_mpr = np.mean(\n",
        "            [ranks[item] / len(scores)\n",
        "            for item in user_interacted_items if item in recommended_items]\n",
        "        )\n",
        "\n",
        "        mpr_sum += user_mpr\n",
        "        num_evaluated_users += 1\n",
        "\n",
        "    # Calculate the average MPR across all users\n",
        "    avg_mpr = mpr_sum / num_evaluated_users if num_evaluated_users > 0 else 0\n",
        "\n",
        "    return avg_mpr\n",
        "\n",
        "avg_mpr = mean_percentile_ranking(model, user_artists)\n",
        "print(f\"Mean Percentile Ranking (MPR): {avg_mpr:.4f}\")"
      ],
      "metadata": {
        "id": "46CI2mfKB9z5"
      },
      "execution_count": null,
      "outputs": []
    },
    {
      "cell_type": "code",
      "source": [
        "def map_at_k(model, user_artists, k=5):\n",
        "    \"\"\"\n",
        "    Calculate Mean Average Precision\n",
        "    \"\"\"\n",
        "    num_users = user_artists.shape[0]\n",
        "    map_sum = 0\n",
        "    num_evaluated_users = 0\n",
        "\n",
        "    user_items = user_artists\n",
        "\n",
        "    for user_id in range(num_users):\n",
        "        user_interacted_items = user_items[user_id].indices\n",
        "        if len(user_interacted_items) == 0:\n",
        "            continue\n",
        "\n",
        "        # Generate top-k recommendations for the user\n",
        "        recommended_items, _ = model.recommend(userid=user_id, user_items=user_items[k], N=k)\n",
        "        relevant_items_set = set(user_interacted_items)\n",
        "\n",
        "        # Calculate Average Precision\n",
        "        hits = 0\n",
        "        sum_precision = 0\n",
        "        for i, item in enumerate(recommended_items):\n",
        "            if item in relevant_items_set:\n",
        "                hits += 1\n",
        "                sum_precision += hits / (i + 1)\n",
        "\n",
        "        if len(relevant_items_set) > 0:\n",
        "            average_precision = sum_precision / min(len(relevant_items_set), k)\n",
        "        else:\n",
        "            average_precision = 0\n",
        "\n",
        "        map_sum += average_precision\n",
        "        num_evaluated_users += 1\n",
        "\n",
        "    avg_map = map_sum / num_evaluated_users if num_evaluated_users > 0 else 0\n",
        "\n",
        "    return avg_map\n",
        "\n",
        "avg_map = map_at_k(model, user_artists, k=5)\n",
        "print(f\"Mean Average Precision (MAP): {avg_map:.4f}\")"
      ],
      "metadata": {
        "id": "-5pWaCMNLSoA"
      },
      "execution_count": null,
      "outputs": []
    }
  ]
}