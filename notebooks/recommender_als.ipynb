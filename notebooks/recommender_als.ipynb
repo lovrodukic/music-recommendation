{
  "nbformat": 4,
  "nbformat_minor": 0,
  "metadata": {
    "colab": {
      "provenance": [],
      "gpuType": "T4",
      "authorship_tag": "ABX9TyM9vMYoVGfb1JZxTfjbJlM+",
      "include_colab_link": true
    },
    "kernelspec": {
      "name": "python3",
      "display_name": "Python 3"
    },
    "language_info": {
      "name": "python"
    },
    "widgets": {
      "application/vnd.jupyter.widget-state+json": {
        "686e1a74c21c493fba32c75f59ee766a": {
          "model_module": "@jupyter-widgets/controls",
          "model_name": "HBoxModel",
          "model_module_version": "1.5.0",
          "state": {
            "_dom_classes": [],
            "_model_module": "@jupyter-widgets/controls",
            "_model_module_version": "1.5.0",
            "_model_name": "HBoxModel",
            "_view_count": null,
            "_view_module": "@jupyter-widgets/controls",
            "_view_module_version": "1.5.0",
            "_view_name": "HBoxView",
            "box_style": "",
            "children": [
              "IPY_MODEL_0f26dfc4c5b64128b2a377b285c5d8ed",
              "IPY_MODEL_0660316a9f62429fb67ea78ffd755bf0",
              "IPY_MODEL_2ad1bbd3ea4b4445b4c1bf00bb01da23"
            ],
            "layout": "IPY_MODEL_a9ac7b40c7b548028fdbf5c5df9b8585"
          }
        },
        "0f26dfc4c5b64128b2a377b285c5d8ed": {
          "model_module": "@jupyter-widgets/controls",
          "model_name": "HTMLModel",
          "model_module_version": "1.5.0",
          "state": {
            "_dom_classes": [],
            "_model_module": "@jupyter-widgets/controls",
            "_model_module_version": "1.5.0",
            "_model_name": "HTMLModel",
            "_view_count": null,
            "_view_module": "@jupyter-widgets/controls",
            "_view_module_version": "1.5.0",
            "_view_name": "HTMLView",
            "description": "",
            "description_tooltip": null,
            "layout": "IPY_MODEL_4997c65fea5549a597bb223a0a6cbd86",
            "placeholder": "​",
            "style": "IPY_MODEL_6466c2622dc741a890b8debb35d491a0",
            "value": "100%"
          }
        },
        "0660316a9f62429fb67ea78ffd755bf0": {
          "model_module": "@jupyter-widgets/controls",
          "model_name": "FloatProgressModel",
          "model_module_version": "1.5.0",
          "state": {
            "_dom_classes": [],
            "_model_module": "@jupyter-widgets/controls",
            "_model_module_version": "1.5.0",
            "_model_name": "FloatProgressModel",
            "_view_count": null,
            "_view_module": "@jupyter-widgets/controls",
            "_view_module_version": "1.5.0",
            "_view_name": "ProgressView",
            "bar_style": "success",
            "description": "",
            "description_tooltip": null,
            "layout": "IPY_MODEL_0dc5aa165ca946d6a5c27c59dbc936b9",
            "max": 50,
            "min": 0,
            "orientation": "horizontal",
            "style": "IPY_MODEL_e6cac71b474949838f75b72748c66ff8",
            "value": 50
          }
        },
        "2ad1bbd3ea4b4445b4c1bf00bb01da23": {
          "model_module": "@jupyter-widgets/controls",
          "model_name": "HTMLModel",
          "model_module_version": "1.5.0",
          "state": {
            "_dom_classes": [],
            "_model_module": "@jupyter-widgets/controls",
            "_model_module_version": "1.5.0",
            "_model_name": "HTMLModel",
            "_view_count": null,
            "_view_module": "@jupyter-widgets/controls",
            "_view_module_version": "1.5.0",
            "_view_name": "HTMLView",
            "description": "",
            "description_tooltip": null,
            "layout": "IPY_MODEL_9a1d96b4445647469beeaae81d18f214",
            "placeholder": "​",
            "style": "IPY_MODEL_b9234a538c28458ea486523ae47cbfa8",
            "value": " 50/50 [00:58&lt;00:00,  1.63s/it]"
          }
        },
        "a9ac7b40c7b548028fdbf5c5df9b8585": {
          "model_module": "@jupyter-widgets/base",
          "model_name": "LayoutModel",
          "model_module_version": "1.2.0",
          "state": {
            "_model_module": "@jupyter-widgets/base",
            "_model_module_version": "1.2.0",
            "_model_name": "LayoutModel",
            "_view_count": null,
            "_view_module": "@jupyter-widgets/base",
            "_view_module_version": "1.2.0",
            "_view_name": "LayoutView",
            "align_content": null,
            "align_items": null,
            "align_self": null,
            "border": null,
            "bottom": null,
            "display": null,
            "flex": null,
            "flex_flow": null,
            "grid_area": null,
            "grid_auto_columns": null,
            "grid_auto_flow": null,
            "grid_auto_rows": null,
            "grid_column": null,
            "grid_gap": null,
            "grid_row": null,
            "grid_template_areas": null,
            "grid_template_columns": null,
            "grid_template_rows": null,
            "height": null,
            "justify_content": null,
            "justify_items": null,
            "left": null,
            "margin": null,
            "max_height": null,
            "max_width": null,
            "min_height": null,
            "min_width": null,
            "object_fit": null,
            "object_position": null,
            "order": null,
            "overflow": null,
            "overflow_x": null,
            "overflow_y": null,
            "padding": null,
            "right": null,
            "top": null,
            "visibility": null,
            "width": null
          }
        },
        "4997c65fea5549a597bb223a0a6cbd86": {
          "model_module": "@jupyter-widgets/base",
          "model_name": "LayoutModel",
          "model_module_version": "1.2.0",
          "state": {
            "_model_module": "@jupyter-widgets/base",
            "_model_module_version": "1.2.0",
            "_model_name": "LayoutModel",
            "_view_count": null,
            "_view_module": "@jupyter-widgets/base",
            "_view_module_version": "1.2.0",
            "_view_name": "LayoutView",
            "align_content": null,
            "align_items": null,
            "align_self": null,
            "border": null,
            "bottom": null,
            "display": null,
            "flex": null,
            "flex_flow": null,
            "grid_area": null,
            "grid_auto_columns": null,
            "grid_auto_flow": null,
            "grid_auto_rows": null,
            "grid_column": null,
            "grid_gap": null,
            "grid_row": null,
            "grid_template_areas": null,
            "grid_template_columns": null,
            "grid_template_rows": null,
            "height": null,
            "justify_content": null,
            "justify_items": null,
            "left": null,
            "margin": null,
            "max_height": null,
            "max_width": null,
            "min_height": null,
            "min_width": null,
            "object_fit": null,
            "object_position": null,
            "order": null,
            "overflow": null,
            "overflow_x": null,
            "overflow_y": null,
            "padding": null,
            "right": null,
            "top": null,
            "visibility": null,
            "width": null
          }
        },
        "6466c2622dc741a890b8debb35d491a0": {
          "model_module": "@jupyter-widgets/controls",
          "model_name": "DescriptionStyleModel",
          "model_module_version": "1.5.0",
          "state": {
            "_model_module": "@jupyter-widgets/controls",
            "_model_module_version": "1.5.0",
            "_model_name": "DescriptionStyleModel",
            "_view_count": null,
            "_view_module": "@jupyter-widgets/base",
            "_view_module_version": "1.2.0",
            "_view_name": "StyleView",
            "description_width": ""
          }
        },
        "0dc5aa165ca946d6a5c27c59dbc936b9": {
          "model_module": "@jupyter-widgets/base",
          "model_name": "LayoutModel",
          "model_module_version": "1.2.0",
          "state": {
            "_model_module": "@jupyter-widgets/base",
            "_model_module_version": "1.2.0",
            "_model_name": "LayoutModel",
            "_view_count": null,
            "_view_module": "@jupyter-widgets/base",
            "_view_module_version": "1.2.0",
            "_view_name": "LayoutView",
            "align_content": null,
            "align_items": null,
            "align_self": null,
            "border": null,
            "bottom": null,
            "display": null,
            "flex": null,
            "flex_flow": null,
            "grid_area": null,
            "grid_auto_columns": null,
            "grid_auto_flow": null,
            "grid_auto_rows": null,
            "grid_column": null,
            "grid_gap": null,
            "grid_row": null,
            "grid_template_areas": null,
            "grid_template_columns": null,
            "grid_template_rows": null,
            "height": null,
            "justify_content": null,
            "justify_items": null,
            "left": null,
            "margin": null,
            "max_height": null,
            "max_width": null,
            "min_height": null,
            "min_width": null,
            "object_fit": null,
            "object_position": null,
            "order": null,
            "overflow": null,
            "overflow_x": null,
            "overflow_y": null,
            "padding": null,
            "right": null,
            "top": null,
            "visibility": null,
            "width": null
          }
        },
        "e6cac71b474949838f75b72748c66ff8": {
          "model_module": "@jupyter-widgets/controls",
          "model_name": "ProgressStyleModel",
          "model_module_version": "1.5.0",
          "state": {
            "_model_module": "@jupyter-widgets/controls",
            "_model_module_version": "1.5.0",
            "_model_name": "ProgressStyleModel",
            "_view_count": null,
            "_view_module": "@jupyter-widgets/base",
            "_view_module_version": "1.2.0",
            "_view_name": "StyleView",
            "bar_color": null,
            "description_width": ""
          }
        },
        "9a1d96b4445647469beeaae81d18f214": {
          "model_module": "@jupyter-widgets/base",
          "model_name": "LayoutModel",
          "model_module_version": "1.2.0",
          "state": {
            "_model_module": "@jupyter-widgets/base",
            "_model_module_version": "1.2.0",
            "_model_name": "LayoutModel",
            "_view_count": null,
            "_view_module": "@jupyter-widgets/base",
            "_view_module_version": "1.2.0",
            "_view_name": "LayoutView",
            "align_content": null,
            "align_items": null,
            "align_self": null,
            "border": null,
            "bottom": null,
            "display": null,
            "flex": null,
            "flex_flow": null,
            "grid_area": null,
            "grid_auto_columns": null,
            "grid_auto_flow": null,
            "grid_auto_rows": null,
            "grid_column": null,
            "grid_gap": null,
            "grid_row": null,
            "grid_template_areas": null,
            "grid_template_columns": null,
            "grid_template_rows": null,
            "height": null,
            "justify_content": null,
            "justify_items": null,
            "left": null,
            "margin": null,
            "max_height": null,
            "max_width": null,
            "min_height": null,
            "min_width": null,
            "object_fit": null,
            "object_position": null,
            "order": null,
            "overflow": null,
            "overflow_x": null,
            "overflow_y": null,
            "padding": null,
            "right": null,
            "top": null,
            "visibility": null,
            "width": null
          }
        },
        "b9234a538c28458ea486523ae47cbfa8": {
          "model_module": "@jupyter-widgets/controls",
          "model_name": "DescriptionStyleModel",
          "model_module_version": "1.5.0",
          "state": {
            "_model_module": "@jupyter-widgets/controls",
            "_model_module_version": "1.5.0",
            "_model_name": "DescriptionStyleModel",
            "_view_count": null,
            "_view_module": "@jupyter-widgets/base",
            "_view_module_version": "1.2.0",
            "_view_name": "StyleView",
            "description_width": ""
          }
        }
      }
    }
  },
  "cells": [
    {
      "cell_type": "markdown",
      "metadata": {
        "id": "view-in-github",
        "colab_type": "text"
      },
      "source": [
        "<a href=\"https://colab.research.google.com/github/lovrodukic/music-recommendation/blob/main/notebooks/recommender_als.ipynb\" target=\"_parent\"><img src=\"https://colab.research.google.com/assets/colab-badge.svg\" alt=\"Open In Colab\"/></a>"
      ]
    },
    {
      "cell_type": "markdown",
      "source": [
        "# Data Preprocessing\n",
        "\n",
        "Preprocess Last.fm dataset to prepare it for building a recommendation system."
      ],
      "metadata": {
        "id": "5Wh3LBLpfmme"
      }
    },
    {
      "cell_type": "code",
      "source": [
        "!wget -P /content/datasets https://files.grouplens.org/datasets/hetrec2011/hetrec2011-lastfm-2k.zip\n",
        "!unzip /content/datasets/hetrec2011-lastfm-2k.zip -d /content/datasets\n",
        "!ls /content/datasets\n",
        "# Install required libraries\n",
        "!pip install pandas numpy scikit-learn matplotlib implicit"
      ],
      "metadata": {
        "colab": {
          "base_uri": "https://localhost:8080/"
        },
        "id": "qYmyBVSGhdIg",
        "outputId": "25e049ed-72ce-4056-9c88-e25930da4bb3"
      },
      "execution_count": 7,
      "outputs": [
        {
          "output_type": "stream",
          "name": "stdout",
          "text": [
            "--2024-11-13 22:21:26--  https://files.grouplens.org/datasets/hetrec2011/hetrec2011-lastfm-2k.zip\n",
            "Resolving files.grouplens.org (files.grouplens.org)... 128.101.65.152\n",
            "Connecting to files.grouplens.org (files.grouplens.org)|128.101.65.152|:443... connected.\n",
            "HTTP request sent, awaiting response... 200 OK\n",
            "Length: 2589075 (2.5M) [application/zip]\n",
            "Saving to: ‘/content/datasets/hetrec2011-lastfm-2k.zip.1’\n",
            "\n",
            "hetrec2011-lastfm-2 100%[===================>]   2.47M  12.1MB/s    in 0.2s    \n",
            "\n",
            "2024-11-13 22:21:27 (12.1 MB/s) - ‘/content/datasets/hetrec2011-lastfm-2k.zip.1’ saved [2589075/2589075]\n",
            "\n",
            "Archive:  /content/datasets/hetrec2011-lastfm-2k.zip\n",
            "replace /content/datasets/user_friends.dat? [y]es, [n]o, [A]ll, [N]one, [r]ename: artists.dat\t\t    readme.txt\t      user_friends.dat\n",
            "hetrec2011-lastfm-2k.zip    tags.dat\t      user_taggedartists.dat\n",
            "hetrec2011-lastfm-2k.zip.1  user_artists.dat  user_taggedartists-timestamps.dat\n",
            "Requirement already satisfied: pandas in /usr/local/lib/python3.10/dist-packages (2.2.2)\n",
            "Requirement already satisfied: numpy in /usr/local/lib/python3.10/dist-packages (1.26.4)\n",
            "Requirement already satisfied: scikit-learn in /usr/local/lib/python3.10/dist-packages (1.5.2)\n",
            "Requirement already satisfied: matplotlib in /usr/local/lib/python3.10/dist-packages (3.8.0)\n",
            "Collecting implicit\n",
            "  Using cached implicit-0.7.2-cp310-cp310-manylinux2014_x86_64.whl.metadata (6.1 kB)\n",
            "Requirement already satisfied: python-dateutil>=2.8.2 in /usr/local/lib/python3.10/dist-packages (from pandas) (2.8.2)\n",
            "Requirement already satisfied: pytz>=2020.1 in /usr/local/lib/python3.10/dist-packages (from pandas) (2024.2)\n",
            "Requirement already satisfied: tzdata>=2022.7 in /usr/local/lib/python3.10/dist-packages (from pandas) (2024.2)\n",
            "Requirement already satisfied: scipy>=1.6.0 in /usr/local/lib/python3.10/dist-packages (from scikit-learn) (1.13.1)\n",
            "Requirement already satisfied: joblib>=1.2.0 in /usr/local/lib/python3.10/dist-packages (from scikit-learn) (1.4.2)\n",
            "Requirement already satisfied: threadpoolctl>=3.1.0 in /usr/local/lib/python3.10/dist-packages (from scikit-learn) (3.5.0)\n",
            "Requirement already satisfied: contourpy>=1.0.1 in /usr/local/lib/python3.10/dist-packages (from matplotlib) (1.3.0)\n",
            "Requirement already satisfied: cycler>=0.10 in /usr/local/lib/python3.10/dist-packages (from matplotlib) (0.12.1)\n",
            "Requirement already satisfied: fonttools>=4.22.0 in /usr/local/lib/python3.10/dist-packages (from matplotlib) (4.54.1)\n",
            "Requirement already satisfied: kiwisolver>=1.0.1 in /usr/local/lib/python3.10/dist-packages (from matplotlib) (1.4.7)\n",
            "Requirement already satisfied: packaging>=20.0 in /usr/local/lib/python3.10/dist-packages (from matplotlib) (24.2)\n",
            "Requirement already satisfied: pillow>=6.2.0 in /usr/local/lib/python3.10/dist-packages (from matplotlib) (11.0.0)\n",
            "Requirement already satisfied: pyparsing>=2.3.1 in /usr/local/lib/python3.10/dist-packages (from matplotlib) (3.2.0)\n",
            "Requirement already satisfied: tqdm>=4.27 in /usr/local/lib/python3.10/dist-packages (from implicit) (4.66.6)\n",
            "Requirement already satisfied: six>=1.5 in /usr/local/lib/python3.10/dist-packages (from python-dateutil>=2.8.2->pandas) (1.16.0)\n",
            "Downloading implicit-0.7.2-cp310-cp310-manylinux2014_x86_64.whl (8.9 MB)\n",
            "\u001b[2K   \u001b[90m━━━━━━━━━━━━━━━━━━━━━━━━━━━━━━━━━━━━━━━━\u001b[0m \u001b[32m8.9/8.9 MB\u001b[0m \u001b[31m84.8 MB/s\u001b[0m eta \u001b[36m0:00:00\u001b[0m\n",
            "\u001b[?25hInstalling collected packages: implicit\n",
            "Successfully installed implicit-0.7.2\n"
          ]
        }
      ]
    },
    {
      "cell_type": "code",
      "execution_count": 133,
      "metadata": {
        "id": "EkXZQg6JczB7"
      },
      "outputs": [],
      "source": [
        "import matplotlib.pyplot as plt\n",
        "import sklearn\n",
        "import seaborn as sns\n",
        "import numpy as np\n",
        "import pandas as pd\n",
        "import scipy"
      ]
    },
    {
      "cell_type": "code",
      "source": [
        "def load_user_artists(user_artists_file):\n",
        "    \"\"\"\n",
        "    Return a CSR matrix of user_artistst.dat\n",
        "    \"\"\"\n",
        "    user_artists = pd.read_csv(user_artists_file, sep='\\t')\n",
        "    user_artists.set_index(['userID', 'artistID'], inplace=True)\n",
        "    coo = scipy.sparse.coo_matrix(\n",
        "        (\n",
        "            user_artists.weight.astype(float),\n",
        "            (\n",
        "                user_artists.index.get_level_values(0),\n",
        "                user_artists.index.get_level_values(1),\n",
        "            ),\n",
        "        )\n",
        "    )\n",
        "\n",
        "    return coo.tocsr()\n",
        "\n",
        "user_artists = load_user_artists('/content/datasets/user_artists.dat')\n",
        "print(f\"Sparse matrix shape: {user_artists.shape}\")"
      ],
      "metadata": {
        "colab": {
          "base_uri": "https://localhost:8080/"
        },
        "collapsed": true,
        "id": "4M7RnBRNdEtL",
        "outputId": "ba2318ca-9577-43e1-ef75-c8cceedbfd14"
      },
      "execution_count": 134,
      "outputs": [
        {
          "output_type": "stream",
          "name": "stdout",
          "text": [
            "Sparse matrix shape: (2101, 18746)\n"
          ]
        }
      ]
    },
    {
      "cell_type": "code",
      "source": [
        "def load_artists(artists_file):\n",
        "    \"\"\"\n",
        "    Load artists and return in a dataframe format\n",
        "    \"\"\"\n",
        "    artists = pd.read_csv(artists_file, sep='\\t')\n",
        "    artists = artists.set_index('id')\n",
        "\n",
        "    return artists\n",
        "\n",
        "artists = load_artists('/content/datasets/artists.dat')\n",
        "print(f\"Dataframe shape: {artists.shape}\")"
      ],
      "metadata": {
        "colab": {
          "base_uri": "https://localhost:8080/"
        },
        "id": "TBYoOW7JsqSy",
        "outputId": "9299d4e5-84f7-49d7-cc0a-c51ba4835fd2"
      },
      "execution_count": 135,
      "outputs": [
        {
          "output_type": "stream",
          "name": "stdout",
          "text": [
            "Dataframe shape: (17632, 3)\n"
          ]
        }
      ]
    },
    {
      "cell_type": "markdown",
      "source": [
        "# Model Training\n",
        "\n",
        "Training a collaborative filtering model using Alternating Least Squares (ALS)"
      ],
      "metadata": {
        "id": "gkcZu-xFgHiX"
      }
    },
    {
      "cell_type": "code",
      "source": [
        "from implicit import als\n",
        "\n",
        "model = als.AlternatingLeastSquares(\n",
        "    factors=200,\n",
        "    regularization=0.05,\n",
        "    iterations=50\n",
        ")\n",
        "\n",
        "model.fit(user_artists)\n",
        "print(\"Training complete.\")"
      ],
      "metadata": {
        "colab": {
          "base_uri": "https://localhost:8080/",
          "height": 67,
          "referenced_widgets": [
            "686e1a74c21c493fba32c75f59ee766a",
            "0f26dfc4c5b64128b2a377b285c5d8ed",
            "0660316a9f62429fb67ea78ffd755bf0",
            "2ad1bbd3ea4b4445b4c1bf00bb01da23",
            "a9ac7b40c7b548028fdbf5c5df9b8585",
            "4997c65fea5549a597bb223a0a6cbd86",
            "6466c2622dc741a890b8debb35d491a0",
            "0dc5aa165ca946d6a5c27c59dbc936b9",
            "e6cac71b474949838f75b72748c66ff8",
            "9a1d96b4445647469beeaae81d18f214",
            "b9234a538c28458ea486523ae47cbfa8"
          ]
        },
        "id": "YLqP5mV5gRIo",
        "outputId": "7326ef8b-7644-47fd-a8c2-a03d76d42b94"
      },
      "execution_count": 138,
      "outputs": [
        {
          "output_type": "display_data",
          "data": {
            "text/plain": [
              "  0%|          | 0/50 [00:00<?, ?it/s]"
            ],
            "application/vnd.jupyter.widget-view+json": {
              "version_major": 2,
              "version_minor": 0,
              "model_id": "686e1a74c21c493fba32c75f59ee766a"
            }
          },
          "metadata": {}
        },
        {
          "output_type": "stream",
          "name": "stdout",
          "text": [
            "Training complete.\n"
          ]
        }
      ]
    },
    {
      "cell_type": "markdown",
      "source": [
        "# Model Evaluation\n",
        "\n",
        "Evaluate the performance of the model using precision and recall"
      ],
      "metadata": {
        "id": "fdVHUQblmn1z"
      }
    },
    {
      "cell_type": "code",
      "source": [
        "def get_als_recommendations(model, user_id, user_artists, n_recommendations=5):\n",
        "    \"\"\"\n",
        "    Generate top n recommendations for a specific user using the ALS model.\n",
        "    \"\"\"\n",
        "    recommended_items, scores = model.recommend(\n",
        "        userid=user_id,\n",
        "        user_items=user_artists[n_recommendations],\n",
        "        N=n_recommendations\n",
        "    )\n",
        "\n",
        "    recommendations = [\n",
        "        artists.loc[artist_id, 'name'] for artist_id in recommended_items\n",
        "    ]\n",
        "\n",
        "    return recommendations, scores\n",
        "\n",
        "user_id = 2\n",
        "recommendations, scores = get_als_recommendations(\n",
        "    model, user_id, user_artists, n_recommendations=5\n",
        ")\n",
        "\n",
        "for (artist, score) in zip(recommendations, scores):\n",
        "    print(f\"{artist}: {score}\")"
      ],
      "metadata": {
        "colab": {
          "base_uri": "https://localhost:8080/"
        },
        "id": "oRVNq73Yn_9z",
        "outputId": "baa2b67d-4eaa-49a6-eeee-d11e5a47ff51"
      },
      "execution_count": 139,
      "outputs": [
        {
          "output_type": "stream",
          "name": "stdout",
          "text": [
            "Eurythmics: 1.0763423442840576\n",
            "Simple Minds: 1.0432944297790527\n",
            "The Human League: 1.0092244148254395\n",
            "Kylie Minogue: 1.0034329891204834\n",
            "New Order: 1.003252387046814\n"
          ]
        }
      ]
    },
    {
      "cell_type": "code",
      "source": [
        "def mean_percentile_ranking(model, user_artists, k=10):\n",
        "    \"\"\"\n",
        "    Calculate Mean Percentile Ranking (MPR) for the ALS model\n",
        "    \"\"\"\n",
        "    num_users = user_artists.shape[0]\n",
        "    mpr_sum = 0\n",
        "    num_evaluated_users = 0\n",
        "\n",
        "    user_items = user_artists\n",
        "\n",
        "    for user_id in range(num_users):\n",
        "        user_interacted_items = user_items[user_id].indices\n",
        "        if len(user_interacted_items) == 0:\n",
        "            continue\n",
        "\n",
        "        # Get all items ranked by the model for this user\n",
        "        recommended_items, scores = model.recommend(\n",
        "            userid=user_id,\n",
        "            user_items=user_items,\n",
        "            N=user_items.shape[1],\n",
        "            filter_already_liked_items=False\n",
        "        )\n",
        "\n",
        "        # Calculate the rank of each item the user interacted with\n",
        "        ranks = np.argsort(np.argsort(-scores))\n",
        "        user_mpr = np.mean([ranks[item] / len(scores) for item in user_interacted_items if item in recommended_items])\n",
        "\n",
        "        mpr_sum += user_mpr\n",
        "        num_evaluated_users += 1\n",
        "\n",
        "    # Calculate the average MPR across all users\n",
        "    avg_mpr = mpr_sum / num_evaluated_users if num_evaluated_users > 0 else 0\n",
        "\n",
        "    return avg_mpr\n",
        "\n",
        "avg_mpr = mean_percentile_ranking(model, user_artists)\n",
        "print(f\"Mean Percentile Ranking (MPR): {avg_mpr:.4f}\")"
      ],
      "metadata": {
        "colab": {
          "base_uri": "https://localhost:8080/"
        },
        "id": "46CI2mfKB9z5",
        "outputId": "b02ec5f6-1213-44d8-9f8c-7a07626290a1"
      },
      "execution_count": 141,
      "outputs": [
        {
          "output_type": "stream",
          "name": "stdout",
          "text": [
            "Mean Percentile Ranking (MPR): 0.1805\n"
          ]
        }
      ]
    },
    {
      "cell_type": "code",
      "source": [
        "def map_at_k(model, user_artists, k=5):\n",
        "    \"\"\"\n",
        "    Calculate Mean Average Precision\n",
        "    \"\"\"\n",
        "    num_users = user_artists.shape[0]\n",
        "    map_sum = 0\n",
        "    num_evaluated_users = 0\n",
        "\n",
        "    user_items = user_artists\n",
        "\n",
        "    for user_id in range(num_users):\n",
        "        user_interacted_items = user_items[user_id].indices\n",
        "        if len(user_interacted_items) == 0:\n",
        "            continue\n",
        "\n",
        "        # Generate top-k recommendations for the user\n",
        "        recommended_items, _ = model.recommend(userid=user_id, user_items=user_items[k], N=k)\n",
        "        relevant_items_set = set(user_interacted_items)\n",
        "\n",
        "        # Calculate Average Precision\n",
        "        hits = 0\n",
        "        sum_precision = 0\n",
        "        for i, item in enumerate(recommended_items):\n",
        "            if item in relevant_items_set:\n",
        "                hits += 1\n",
        "                sum_precision += hits / (i + 1)\n",
        "\n",
        "        if len(relevant_items_set) > 0:\n",
        "            average_precision = sum_precision / min(len(relevant_items_set), k)\n",
        "        else:\n",
        "            average_precision = 0\n",
        "\n",
        "        map_sum += average_precision\n",
        "        num_evaluated_users += 1\n",
        "\n",
        "    avg_map = map_sum / num_evaluated_users if num_evaluated_users > 0 else 0\n",
        "\n",
        "    return avg_map\n",
        "\n",
        "avg_map = map_at_k(model, user_artists, k=5)\n",
        "print(f\"Mean Average Precision (MAP): {avg_map:.4f}\")"
      ],
      "metadata": {
        "colab": {
          "base_uri": "https://localhost:8080/"
        },
        "id": "-5pWaCMNLSoA",
        "outputId": "984f6c39-8cb0-4800-eebb-4319dfc7ec7b"
      },
      "execution_count": 153,
      "outputs": [
        {
          "output_type": "stream",
          "name": "stdout",
          "text": [
            "Mean Average Precision (MAP): 0.8630\n"
          ]
        }
      ]
    }
  ]
}