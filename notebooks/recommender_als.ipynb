{
  "nbformat": 4,
  "nbformat_minor": 0,
  "metadata": {
    "colab": {
      "provenance": [],
      "gpuType": "T4",
      "authorship_tag": "ABX9TyNVyQ7Ilj9iDndglJcN1f+i",
      "include_colab_link": true
    },
    "kernelspec": {
      "name": "python3",
      "display_name": "Python 3"
    },
    "language_info": {
      "name": "python"
    },
    "widgets": {
      "application/vnd.jupyter.widget-state+json": {
        "3c35ce5b546d400e829517626381705b": {
          "model_module": "@jupyter-widgets/controls",
          "model_name": "HBoxModel",
          "model_module_version": "1.5.0",
          "state": {
            "_dom_classes": [],
            "_model_module": "@jupyter-widgets/controls",
            "_model_module_version": "1.5.0",
            "_model_name": "HBoxModel",
            "_view_count": null,
            "_view_module": "@jupyter-widgets/controls",
            "_view_module_version": "1.5.0",
            "_view_name": "HBoxView",
            "box_style": "",
            "children": [
              "IPY_MODEL_fcadea8c56b2464392216f99b0a00eca",
              "IPY_MODEL_5d4a361e53c64a5a8170d58058f8d794",
              "IPY_MODEL_a30686425bb8407b8847396e76cb0323"
            ],
            "layout": "IPY_MODEL_8dd3ff84ec814855a37757c0b279474b"
          }
        },
        "fcadea8c56b2464392216f99b0a00eca": {
          "model_module": "@jupyter-widgets/controls",
          "model_name": "HTMLModel",
          "model_module_version": "1.5.0",
          "state": {
            "_dom_classes": [],
            "_model_module": "@jupyter-widgets/controls",
            "_model_module_version": "1.5.0",
            "_model_name": "HTMLModel",
            "_view_count": null,
            "_view_module": "@jupyter-widgets/controls",
            "_view_module_version": "1.5.0",
            "_view_name": "HTMLView",
            "description": "",
            "description_tooltip": null,
            "layout": "IPY_MODEL_e4f5145db96c41c48dc3187e0c7df848",
            "placeholder": "​",
            "style": "IPY_MODEL_7d2e066a072e407ba1db418c2ff397dd",
            "value": "100%"
          }
        },
        "5d4a361e53c64a5a8170d58058f8d794": {
          "model_module": "@jupyter-widgets/controls",
          "model_name": "FloatProgressModel",
          "model_module_version": "1.5.0",
          "state": {
            "_dom_classes": [],
            "_model_module": "@jupyter-widgets/controls",
            "_model_module_version": "1.5.0",
            "_model_name": "FloatProgressModel",
            "_view_count": null,
            "_view_module": "@jupyter-widgets/controls",
            "_view_module_version": "1.5.0",
            "_view_name": "ProgressView",
            "bar_style": "success",
            "description": "",
            "description_tooltip": null,
            "layout": "IPY_MODEL_60690f44a92b44aca9082f1365e8a365",
            "max": 10,
            "min": 0,
            "orientation": "horizontal",
            "style": "IPY_MODEL_2777a1b7918c4a89898dc455e7c2fad7",
            "value": 10
          }
        },
        "a30686425bb8407b8847396e76cb0323": {
          "model_module": "@jupyter-widgets/controls",
          "model_name": "HTMLModel",
          "model_module_version": "1.5.0",
          "state": {
            "_dom_classes": [],
            "_model_module": "@jupyter-widgets/controls",
            "_model_module_version": "1.5.0",
            "_model_name": "HTMLModel",
            "_view_count": null,
            "_view_module": "@jupyter-widgets/controls",
            "_view_module_version": "1.5.0",
            "_view_name": "HTMLView",
            "description": "",
            "description_tooltip": null,
            "layout": "IPY_MODEL_59d8ecf71f55415295bcff061a039aa7",
            "placeholder": "​",
            "style": "IPY_MODEL_58291ec549304a92a1715d13a0324912",
            "value": " 10/10 [00:02&lt;00:00,  4.77it/s]"
          }
        },
        "8dd3ff84ec814855a37757c0b279474b": {
          "model_module": "@jupyter-widgets/base",
          "model_name": "LayoutModel",
          "model_module_version": "1.2.0",
          "state": {
            "_model_module": "@jupyter-widgets/base",
            "_model_module_version": "1.2.0",
            "_model_name": "LayoutModel",
            "_view_count": null,
            "_view_module": "@jupyter-widgets/base",
            "_view_module_version": "1.2.0",
            "_view_name": "LayoutView",
            "align_content": null,
            "align_items": null,
            "align_self": null,
            "border": null,
            "bottom": null,
            "display": null,
            "flex": null,
            "flex_flow": null,
            "grid_area": null,
            "grid_auto_columns": null,
            "grid_auto_flow": null,
            "grid_auto_rows": null,
            "grid_column": null,
            "grid_gap": null,
            "grid_row": null,
            "grid_template_areas": null,
            "grid_template_columns": null,
            "grid_template_rows": null,
            "height": null,
            "justify_content": null,
            "justify_items": null,
            "left": null,
            "margin": null,
            "max_height": null,
            "max_width": null,
            "min_height": null,
            "min_width": null,
            "object_fit": null,
            "object_position": null,
            "order": null,
            "overflow": null,
            "overflow_x": null,
            "overflow_y": null,
            "padding": null,
            "right": null,
            "top": null,
            "visibility": null,
            "width": null
          }
        },
        "e4f5145db96c41c48dc3187e0c7df848": {
          "model_module": "@jupyter-widgets/base",
          "model_name": "LayoutModel",
          "model_module_version": "1.2.0",
          "state": {
            "_model_module": "@jupyter-widgets/base",
            "_model_module_version": "1.2.0",
            "_model_name": "LayoutModel",
            "_view_count": null,
            "_view_module": "@jupyter-widgets/base",
            "_view_module_version": "1.2.0",
            "_view_name": "LayoutView",
            "align_content": null,
            "align_items": null,
            "align_self": null,
            "border": null,
            "bottom": null,
            "display": null,
            "flex": null,
            "flex_flow": null,
            "grid_area": null,
            "grid_auto_columns": null,
            "grid_auto_flow": null,
            "grid_auto_rows": null,
            "grid_column": null,
            "grid_gap": null,
            "grid_row": null,
            "grid_template_areas": null,
            "grid_template_columns": null,
            "grid_template_rows": null,
            "height": null,
            "justify_content": null,
            "justify_items": null,
            "left": null,
            "margin": null,
            "max_height": null,
            "max_width": null,
            "min_height": null,
            "min_width": null,
            "object_fit": null,
            "object_position": null,
            "order": null,
            "overflow": null,
            "overflow_x": null,
            "overflow_y": null,
            "padding": null,
            "right": null,
            "top": null,
            "visibility": null,
            "width": null
          }
        },
        "7d2e066a072e407ba1db418c2ff397dd": {
          "model_module": "@jupyter-widgets/controls",
          "model_name": "DescriptionStyleModel",
          "model_module_version": "1.5.0",
          "state": {
            "_model_module": "@jupyter-widgets/controls",
            "_model_module_version": "1.5.0",
            "_model_name": "DescriptionStyleModel",
            "_view_count": null,
            "_view_module": "@jupyter-widgets/base",
            "_view_module_version": "1.2.0",
            "_view_name": "StyleView",
            "description_width": ""
          }
        },
        "60690f44a92b44aca9082f1365e8a365": {
          "model_module": "@jupyter-widgets/base",
          "model_name": "LayoutModel",
          "model_module_version": "1.2.0",
          "state": {
            "_model_module": "@jupyter-widgets/base",
            "_model_module_version": "1.2.0",
            "_model_name": "LayoutModel",
            "_view_count": null,
            "_view_module": "@jupyter-widgets/base",
            "_view_module_version": "1.2.0",
            "_view_name": "LayoutView",
            "align_content": null,
            "align_items": null,
            "align_self": null,
            "border": null,
            "bottom": null,
            "display": null,
            "flex": null,
            "flex_flow": null,
            "grid_area": null,
            "grid_auto_columns": null,
            "grid_auto_flow": null,
            "grid_auto_rows": null,
            "grid_column": null,
            "grid_gap": null,
            "grid_row": null,
            "grid_template_areas": null,
            "grid_template_columns": null,
            "grid_template_rows": null,
            "height": null,
            "justify_content": null,
            "justify_items": null,
            "left": null,
            "margin": null,
            "max_height": null,
            "max_width": null,
            "min_height": null,
            "min_width": null,
            "object_fit": null,
            "object_position": null,
            "order": null,
            "overflow": null,
            "overflow_x": null,
            "overflow_y": null,
            "padding": null,
            "right": null,
            "top": null,
            "visibility": null,
            "width": null
          }
        },
        "2777a1b7918c4a89898dc455e7c2fad7": {
          "model_module": "@jupyter-widgets/controls",
          "model_name": "ProgressStyleModel",
          "model_module_version": "1.5.0",
          "state": {
            "_model_module": "@jupyter-widgets/controls",
            "_model_module_version": "1.5.0",
            "_model_name": "ProgressStyleModel",
            "_view_count": null,
            "_view_module": "@jupyter-widgets/base",
            "_view_module_version": "1.2.0",
            "_view_name": "StyleView",
            "bar_color": null,
            "description_width": ""
          }
        },
        "59d8ecf71f55415295bcff061a039aa7": {
          "model_module": "@jupyter-widgets/base",
          "model_name": "LayoutModel",
          "model_module_version": "1.2.0",
          "state": {
            "_model_module": "@jupyter-widgets/base",
            "_model_module_version": "1.2.0",
            "_model_name": "LayoutModel",
            "_view_count": null,
            "_view_module": "@jupyter-widgets/base",
            "_view_module_version": "1.2.0",
            "_view_name": "LayoutView",
            "align_content": null,
            "align_items": null,
            "align_self": null,
            "border": null,
            "bottom": null,
            "display": null,
            "flex": null,
            "flex_flow": null,
            "grid_area": null,
            "grid_auto_columns": null,
            "grid_auto_flow": null,
            "grid_auto_rows": null,
            "grid_column": null,
            "grid_gap": null,
            "grid_row": null,
            "grid_template_areas": null,
            "grid_template_columns": null,
            "grid_template_rows": null,
            "height": null,
            "justify_content": null,
            "justify_items": null,
            "left": null,
            "margin": null,
            "max_height": null,
            "max_width": null,
            "min_height": null,
            "min_width": null,
            "object_fit": null,
            "object_position": null,
            "order": null,
            "overflow": null,
            "overflow_x": null,
            "overflow_y": null,
            "padding": null,
            "right": null,
            "top": null,
            "visibility": null,
            "width": null
          }
        },
        "58291ec549304a92a1715d13a0324912": {
          "model_module": "@jupyter-widgets/controls",
          "model_name": "DescriptionStyleModel",
          "model_module_version": "1.5.0",
          "state": {
            "_model_module": "@jupyter-widgets/controls",
            "_model_module_version": "1.5.0",
            "_model_name": "DescriptionStyleModel",
            "_view_count": null,
            "_view_module": "@jupyter-widgets/base",
            "_view_module_version": "1.2.0",
            "_view_name": "StyleView",
            "description_width": ""
          }
        }
      }
    }
  },
  "cells": [
    {
      "cell_type": "markdown",
      "metadata": {
        "id": "view-in-github",
        "colab_type": "text"
      },
      "source": [
        "<a href=\"https://colab.research.google.com/github/lovrodukic/music-recommendation/blob/main/notebooks/recommender_als.ipynb\" target=\"_parent\"><img src=\"https://colab.research.google.com/assets/colab-badge.svg\" alt=\"Open In Colab\"/></a>"
      ]
    },
    {
      "cell_type": "markdown",
      "source": [
        "# Data Preprocessing\n",
        "\n",
        "Preprocess Last.fm dataset to prepare it for building a recommendation system."
      ],
      "metadata": {
        "id": "5Wh3LBLpfmme"
      }
    },
    {
      "cell_type": "code",
      "source": [
        "!wget -P /content/datasets https://files.grouplens.org/datasets/hetrec2011/hetrec2011-lastfm-2k.zip\n",
        "!unzip /content/datasets/hetrec2011-lastfm-2k.zip -d /content/datasets\n",
        "!ls /content/datasets\n",
        "# Install required libraries\n",
        "!pip install pandas numpy scikit-learn matplotlib implicit"
      ],
      "metadata": {
        "colab": {
          "base_uri": "https://localhost:8080/"
        },
        "id": "qYmyBVSGhdIg",
        "outputId": "25e049ed-72ce-4056-9c88-e25930da4bb3"
      },
      "execution_count": 7,
      "outputs": [
        {
          "output_type": "stream",
          "name": "stdout",
          "text": [
            "--2024-11-13 22:21:26--  https://files.grouplens.org/datasets/hetrec2011/hetrec2011-lastfm-2k.zip\n",
            "Resolving files.grouplens.org (files.grouplens.org)... 128.101.65.152\n",
            "Connecting to files.grouplens.org (files.grouplens.org)|128.101.65.152|:443... connected.\n",
            "HTTP request sent, awaiting response... 200 OK\n",
            "Length: 2589075 (2.5M) [application/zip]\n",
            "Saving to: ‘/content/datasets/hetrec2011-lastfm-2k.zip.1’\n",
            "\n",
            "hetrec2011-lastfm-2 100%[===================>]   2.47M  12.1MB/s    in 0.2s    \n",
            "\n",
            "2024-11-13 22:21:27 (12.1 MB/s) - ‘/content/datasets/hetrec2011-lastfm-2k.zip.1’ saved [2589075/2589075]\n",
            "\n",
            "Archive:  /content/datasets/hetrec2011-lastfm-2k.zip\n",
            "replace /content/datasets/user_friends.dat? [y]es, [n]o, [A]ll, [N]one, [r]ename: artists.dat\t\t    readme.txt\t      user_friends.dat\n",
            "hetrec2011-lastfm-2k.zip    tags.dat\t      user_taggedartists.dat\n",
            "hetrec2011-lastfm-2k.zip.1  user_artists.dat  user_taggedartists-timestamps.dat\n",
            "Requirement already satisfied: pandas in /usr/local/lib/python3.10/dist-packages (2.2.2)\n",
            "Requirement already satisfied: numpy in /usr/local/lib/python3.10/dist-packages (1.26.4)\n",
            "Requirement already satisfied: scikit-learn in /usr/local/lib/python3.10/dist-packages (1.5.2)\n",
            "Requirement already satisfied: matplotlib in /usr/local/lib/python3.10/dist-packages (3.8.0)\n",
            "Collecting implicit\n",
            "  Using cached implicit-0.7.2-cp310-cp310-manylinux2014_x86_64.whl.metadata (6.1 kB)\n",
            "Requirement already satisfied: python-dateutil>=2.8.2 in /usr/local/lib/python3.10/dist-packages (from pandas) (2.8.2)\n",
            "Requirement already satisfied: pytz>=2020.1 in /usr/local/lib/python3.10/dist-packages (from pandas) (2024.2)\n",
            "Requirement already satisfied: tzdata>=2022.7 in /usr/local/lib/python3.10/dist-packages (from pandas) (2024.2)\n",
            "Requirement already satisfied: scipy>=1.6.0 in /usr/local/lib/python3.10/dist-packages (from scikit-learn) (1.13.1)\n",
            "Requirement already satisfied: joblib>=1.2.0 in /usr/local/lib/python3.10/dist-packages (from scikit-learn) (1.4.2)\n",
            "Requirement already satisfied: threadpoolctl>=3.1.0 in /usr/local/lib/python3.10/dist-packages (from scikit-learn) (3.5.0)\n",
            "Requirement already satisfied: contourpy>=1.0.1 in /usr/local/lib/python3.10/dist-packages (from matplotlib) (1.3.0)\n",
            "Requirement already satisfied: cycler>=0.10 in /usr/local/lib/python3.10/dist-packages (from matplotlib) (0.12.1)\n",
            "Requirement already satisfied: fonttools>=4.22.0 in /usr/local/lib/python3.10/dist-packages (from matplotlib) (4.54.1)\n",
            "Requirement already satisfied: kiwisolver>=1.0.1 in /usr/local/lib/python3.10/dist-packages (from matplotlib) (1.4.7)\n",
            "Requirement already satisfied: packaging>=20.0 in /usr/local/lib/python3.10/dist-packages (from matplotlib) (24.2)\n",
            "Requirement already satisfied: pillow>=6.2.0 in /usr/local/lib/python3.10/dist-packages (from matplotlib) (11.0.0)\n",
            "Requirement already satisfied: pyparsing>=2.3.1 in /usr/local/lib/python3.10/dist-packages (from matplotlib) (3.2.0)\n",
            "Requirement already satisfied: tqdm>=4.27 in /usr/local/lib/python3.10/dist-packages (from implicit) (4.66.6)\n",
            "Requirement already satisfied: six>=1.5 in /usr/local/lib/python3.10/dist-packages (from python-dateutil>=2.8.2->pandas) (1.16.0)\n",
            "Downloading implicit-0.7.2-cp310-cp310-manylinux2014_x86_64.whl (8.9 MB)\n",
            "\u001b[2K   \u001b[90m━━━━━━━━━━━━━━━━━━━━━━━━━━━━━━━━━━━━━━━━\u001b[0m \u001b[32m8.9/8.9 MB\u001b[0m \u001b[31m84.8 MB/s\u001b[0m eta \u001b[36m0:00:00\u001b[0m\n",
            "\u001b[?25hInstalling collected packages: implicit\n",
            "Successfully installed implicit-0.7.2\n"
          ]
        }
      ]
    },
    {
      "cell_type": "code",
      "execution_count": 83,
      "metadata": {
        "id": "EkXZQg6JczB7"
      },
      "outputs": [],
      "source": [
        "import matplotlib.pyplot as plt\n",
        "import sklearn\n",
        "import seaborn as sns\n",
        "import numpy as np\n",
        "import pandas as pd\n",
        "import scipy"
      ]
    },
    {
      "cell_type": "code",
      "source": [
        "def load_user_artists(user_artists_file):\n",
        "    \"\"\"\n",
        "    Return a CSR matrix of user_artistst.dat\n",
        "    \"\"\"\n",
        "    user_artists = pd.read_csv(user_artists_file, sep='\\t')\n",
        "    user_artists.set_index(['userID', 'artistID'], inplace=True)\n",
        "    coo = scipy.sparse.coo_matrix(\n",
        "        (\n",
        "            user_artists.weight.astype(float),\n",
        "            (\n",
        "                user_artists.index.get_level_values(0),\n",
        "                user_artists.index.get_level_values(1),\n",
        "            ),\n",
        "        )\n",
        "    )\n",
        "\n",
        "    return coo.tocsr()\n",
        "\n",
        "user_artists = load_user_artists('/content/datasets/user_artists.dat')\n",
        "print(f\"Sparse matrix shape: {user_artists.shape}\")"
      ],
      "metadata": {
        "colab": {
          "base_uri": "https://localhost:8080/"
        },
        "collapsed": true,
        "id": "4M7RnBRNdEtL",
        "outputId": "50489578-1c5c-442b-874d-1df7bec22f15"
      },
      "execution_count": 84,
      "outputs": [
        {
          "output_type": "stream",
          "name": "stdout",
          "text": [
            "Sparse matrix shape: (2101, 18746)\n"
          ]
        }
      ]
    },
    {
      "cell_type": "code",
      "source": [
        "def load_artists(artists_file):\n",
        "    \"\"\"\n",
        "    Load artists and return in a dataframe format\n",
        "    \"\"\"\n",
        "    artists = pd.read_csv(artists_file, sep='\\t')\n",
        "    artists = artists.set_index('id')\n",
        "\n",
        "    return artists\n",
        "\n",
        "artists = load_artists('/content/datasets/artists.dat')\n",
        "print(f\"Dataframe shape: {artists.shape}\")"
      ],
      "metadata": {
        "colab": {
          "base_uri": "https://localhost:8080/"
        },
        "id": "TBYoOW7JsqSy",
        "outputId": "d8ee5393-79e5-48b9-8c88-bd137dd23050"
      },
      "execution_count": 85,
      "outputs": [
        {
          "output_type": "stream",
          "name": "stdout",
          "text": [
            "Dataframe shape: (17632, 3)\n"
          ]
        }
      ]
    },
    {
      "cell_type": "markdown",
      "source": [
        "# Model Training\n",
        "\n",
        "Training a collaborative filtering model using Alternating Least Squares (ALS)"
      ],
      "metadata": {
        "id": "gkcZu-xFgHiX"
      }
    },
    {
      "cell_type": "code",
      "source": [
        "from implicit import als\n",
        "\n",
        "model = als.AlternatingLeastSquares(\n",
        "    factors=50,\n",
        "    regularization=0.01,\n",
        "    iterations=10\n",
        ")\n",
        "\n",
        "model.fit(user_artists)\n",
        "print(\"Training complete.\")"
      ],
      "metadata": {
        "colab": {
          "base_uri": "https://localhost:8080/",
          "height": 67,
          "referenced_widgets": [
            "3c35ce5b546d400e829517626381705b",
            "fcadea8c56b2464392216f99b0a00eca",
            "5d4a361e53c64a5a8170d58058f8d794",
            "a30686425bb8407b8847396e76cb0323",
            "8dd3ff84ec814855a37757c0b279474b",
            "e4f5145db96c41c48dc3187e0c7df848",
            "7d2e066a072e407ba1db418c2ff397dd",
            "60690f44a92b44aca9082f1365e8a365",
            "2777a1b7918c4a89898dc455e7c2fad7",
            "59d8ecf71f55415295bcff061a039aa7",
            "58291ec549304a92a1715d13a0324912"
          ]
        },
        "id": "YLqP5mV5gRIo",
        "outputId": "0620cd78-b8ea-4f75-cd1e-5493519cb50a"
      },
      "execution_count": 93,
      "outputs": [
        {
          "output_type": "display_data",
          "data": {
            "text/plain": [
              "  0%|          | 0/10 [00:00<?, ?it/s]"
            ],
            "application/vnd.jupyter.widget-view+json": {
              "version_major": 2,
              "version_minor": 0,
              "model_id": "3c35ce5b546d400e829517626381705b"
            }
          },
          "metadata": {}
        },
        {
          "output_type": "stream",
          "name": "stdout",
          "text": [
            "Training complete.\n"
          ]
        }
      ]
    },
    {
      "cell_type": "markdown",
      "source": [
        "# Model Evaluation\n",
        "\n",
        "Evaluate the performance of the model using precision and recall"
      ],
      "metadata": {
        "id": "fdVHUQblmn1z"
      }
    },
    {
      "cell_type": "code",
      "source": [
        "def get_als_recommendations(model, user_id, user_artists, n_recommendations=5):\n",
        "    \"\"\"\n",
        "    Generate top n recommendations for a specific user using the ALS model.\n",
        "    \"\"\"\n",
        "    recommended_items, scores = model.recommend(\n",
        "        user_id, user_artists[n_recommendations], N=n_recommendations\n",
        "    )\n",
        "\n",
        "    recommendations = [\n",
        "        artists.loc[artist_id, 'name'] for artist_id in recommended_items\n",
        "    ]\n",
        "\n",
        "    return recommendations, scores\n",
        "\n",
        "user_id = 2\n",
        "recommendations, scores = get_als_recommendations(\n",
        "    model, user_id, user_artists, n_recommendations=5\n",
        ")\n",
        "\n",
        "for (artist, score) in zip(recommendations, scores):\n",
        "    print(f\"{artist}: {score}\")"
      ],
      "metadata": {
        "colab": {
          "base_uri": "https://localhost:8080/"
        },
        "id": "oRVNq73Yn_9z",
        "outputId": "606ba93e-0eb0-4170-cf30-49cbe65750e5"
      },
      "execution_count": 113,
      "outputs": [
        {
          "output_type": "stream",
          "name": "stdout",
          "text": [
            "The Police: 1.586818814277649\n",
            "Sting: 1.2840187549591064\n",
            "The Prodigy: 1.2672972679138184\n",
            "Zero 7: 1.2326427698135376\n",
            "Roxette: 1.203816294670105\n"
          ]
        }
      ]
    }
  ]
}