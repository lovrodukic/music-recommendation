{
  "nbformat": 4,
  "nbformat_minor": 0,
  "metadata": {
    "colab": {
      "provenance": [],
      "authorship_tag": "ABX9TyN+pykOmHJpOB4WqVuiAZYL",
      "include_colab_link": true
    },
    "kernelspec": {
      "name": "python3",
      "display_name": "Python 3"
    },
    "language_info": {
      "name": "python"
    }
  },
  "cells": [
    {
      "cell_type": "markdown",
      "metadata": {
        "id": "view-in-github",
        "colab_type": "text"
      },
      "source": [
        "<a href=\"https://colab.research.google.com/github/lovrodukic/music-recommendation/blob/main/notebooks/recommender_svd.ipynb\" target=\"_parent\"><img src=\"https://colab.research.google.com/assets/colab-badge.svg\" alt=\"Open In Colab\"/></a>"
      ]
    },
    {
      "cell_type": "markdown",
      "source": [
        "# Data Preprocessing\n",
        "\n",
        "Preprocess Last.fm dataset to prepare it for building a recommendation system."
      ],
      "metadata": {
        "id": "72MbT4vH1UxS"
      }
    },
    {
      "cell_type": "code",
      "source": [
        "!wget -P /content/datasets https://files.grouplens.org/datasets/hetrec2011/hetrec2011-lastfm-2k.zip\n",
        "!unzip /content/datasets/hetrec2011-lastfm-2k.zip -d /content/datasets\n",
        "!ls /content/datasets\n",
        "# Install required libraries\n",
        "!pip install pandas numpy scikit-learn surprise matplotlib"
      ],
      "metadata": {
        "colab": {
          "base_uri": "https://localhost:8080/"
        },
        "id": "84KC3Xl8hkS8",
        "outputId": "d9665f0b-5a61-4c0b-a8d0-76e0e775ce11"
      },
      "execution_count": 1,
      "outputs": [
        {
          "output_type": "stream",
          "name": "stdout",
          "text": [
            "--2024-11-13 21:55:41--  https://files.grouplens.org/datasets/hetrec2011/hetrec2011-lastfm-2k.zip\n",
            "Resolving files.grouplens.org (files.grouplens.org)... 128.101.65.152\n",
            "Connecting to files.grouplens.org (files.grouplens.org)|128.101.65.152|:443... connected.\n",
            "HTTP request sent, awaiting response... 200 OK\n",
            "Length: 2589075 (2.5M) [application/zip]\n",
            "Saving to: ‘/content/datasets/hetrec2011-lastfm-2k.zip’\n",
            "\n",
            "hetrec2011-lastfm-2 100%[===================>]   2.47M  6.54MB/s    in 0.4s    \n",
            "\n",
            "2024-11-13 21:55:42 (6.54 MB/s) - ‘/content/datasets/hetrec2011-lastfm-2k.zip’ saved [2589075/2589075]\n",
            "\n",
            "Archive:  /content/datasets/hetrec2011-lastfm-2k.zip\n",
            "  inflating: /content/datasets/user_friends.dat  \n",
            "  inflating: /content/datasets/user_taggedartists.dat  \n",
            "  inflating: /content/datasets/user_taggedartists-timestamps.dat  \n",
            "  inflating: /content/datasets/artists.dat  \n",
            "  inflating: /content/datasets/readme.txt  \n",
            "  inflating: /content/datasets/tags.dat  \n",
            "  inflating: /content/datasets/user_artists.dat  \n",
            "artists.dat\t\t  readme.txt  user_artists.dat\tuser_taggedartists.dat\n",
            "hetrec2011-lastfm-2k.zip  tags.dat    user_friends.dat\tuser_taggedartists-timestamps.dat\n",
            "Requirement already satisfied: pandas in /usr/local/lib/python3.10/dist-packages (2.2.2)\n",
            "Requirement already satisfied: numpy in /usr/local/lib/python3.10/dist-packages (1.26.4)\n",
            "Requirement already satisfied: scikit-learn in /usr/local/lib/python3.10/dist-packages (1.5.2)\n",
            "Collecting surprise\n",
            "  Downloading surprise-0.1-py2.py3-none-any.whl.metadata (327 bytes)\n",
            "Requirement already satisfied: matplotlib in /usr/local/lib/python3.10/dist-packages (3.8.0)\n",
            "Requirement already satisfied: python-dateutil>=2.8.2 in /usr/local/lib/python3.10/dist-packages (from pandas) (2.8.2)\n",
            "Requirement already satisfied: pytz>=2020.1 in /usr/local/lib/python3.10/dist-packages (from pandas) (2024.2)\n",
            "Requirement already satisfied: tzdata>=2022.7 in /usr/local/lib/python3.10/dist-packages (from pandas) (2024.2)\n",
            "Requirement already satisfied: scipy>=1.6.0 in /usr/local/lib/python3.10/dist-packages (from scikit-learn) (1.13.1)\n",
            "Requirement already satisfied: joblib>=1.2.0 in /usr/local/lib/python3.10/dist-packages (from scikit-learn) (1.4.2)\n",
            "Requirement already satisfied: threadpoolctl>=3.1.0 in /usr/local/lib/python3.10/dist-packages (from scikit-learn) (3.5.0)\n",
            "Collecting scikit-surprise (from surprise)\n",
            "  Downloading scikit_surprise-1.1.4.tar.gz (154 kB)\n",
            "\u001b[2K     \u001b[90m━━━━━━━━━━━━━━━━━━━━━━━━━━━━━━━━━━━━━━━━\u001b[0m \u001b[32m154.4/154.4 kB\u001b[0m \u001b[31m3.5 MB/s\u001b[0m eta \u001b[36m0:00:00\u001b[0m\n",
            "\u001b[?25h  Installing build dependencies ... \u001b[?25l\u001b[?25hdone\n",
            "  Getting requirements to build wheel ... \u001b[?25l\u001b[?25hdone\n",
            "  Preparing metadata (pyproject.toml) ... \u001b[?25l\u001b[?25hdone\n",
            "Requirement already satisfied: contourpy>=1.0.1 in /usr/local/lib/python3.10/dist-packages (from matplotlib) (1.3.0)\n",
            "Requirement already satisfied: cycler>=0.10 in /usr/local/lib/python3.10/dist-packages (from matplotlib) (0.12.1)\n",
            "Requirement already satisfied: fonttools>=4.22.0 in /usr/local/lib/python3.10/dist-packages (from matplotlib) (4.54.1)\n",
            "Requirement already satisfied: kiwisolver>=1.0.1 in /usr/local/lib/python3.10/dist-packages (from matplotlib) (1.4.7)\n",
            "Requirement already satisfied: packaging>=20.0 in /usr/local/lib/python3.10/dist-packages (from matplotlib) (24.2)\n",
            "Requirement already satisfied: pillow>=6.2.0 in /usr/local/lib/python3.10/dist-packages (from matplotlib) (11.0.0)\n",
            "Requirement already satisfied: pyparsing>=2.3.1 in /usr/local/lib/python3.10/dist-packages (from matplotlib) (3.2.0)\n",
            "Requirement already satisfied: six>=1.5 in /usr/local/lib/python3.10/dist-packages (from python-dateutil>=2.8.2->pandas) (1.16.0)\n",
            "Downloading surprise-0.1-py2.py3-none-any.whl (1.8 kB)\n",
            "Building wheels for collected packages: scikit-surprise\n",
            "  Building wheel for scikit-surprise (pyproject.toml) ... \u001b[?25l\u001b[?25hdone\n",
            "  Created wheel for scikit-surprise: filename=scikit_surprise-1.1.4-cp310-cp310-linux_x86_64.whl size=2357287 sha256=4ccfb35051dac5f5809570583ff791f9a54de9e20509d621ef960deb382fc7e8\n",
            "  Stored in directory: /root/.cache/pip/wheels/4b/3f/df/6acbf0a40397d9bf3ff97f582cc22fb9ce66adde75bc71fd54\n",
            "Successfully built scikit-surprise\n",
            "Installing collected packages: scikit-surprise, surprise\n",
            "Successfully installed scikit-surprise-1.1.4 surprise-0.1\n"
          ]
        }
      ]
    },
    {
      "cell_type": "code",
      "source": [
        "import matplotlib.pyplot as plt\n",
        "import seaborn as sns\n",
        "import numpy as np\n",
        "import pandas as pd"
      ],
      "metadata": {
        "id": "KmqHe-KpX9KN"
      },
      "execution_count": 33,
      "outputs": []
    },
    {
      "cell_type": "code",
      "source": [
        "# Load the user-artists interactions data\n",
        "def load_user_artists(user_artists_file):\n",
        "    return pd.read_csv(user_artists_file, sep='\\t')\n",
        "\n",
        "user_artists = load_user_artists('/content/datasets/user_artists.dat')\n",
        "print(\"User-Artists Interactions:\")\n",
        "print(user_artists.head())\n",
        "\n",
        "# Load the artist data\n",
        "artists = pd.read_csv('/content/datasets/artists.dat', sep='\\t')\n",
        "print(\"Artists Data:\")\n",
        "print(artists.head())"
      ],
      "metadata": {
        "colab": {
          "base_uri": "https://localhost:8080/"
        },
        "collapsed": true,
        "id": "HsWG3O1l1n3g",
        "outputId": "09799c16-2e79-459d-de8b-64dcaa1979cc"
      },
      "execution_count": 34,
      "outputs": [
        {
          "output_type": "stream",
          "name": "stdout",
          "text": [
            "User-Artists Interactions:\n",
            "   userID  artistID  weight\n",
            "0       2        51   13883\n",
            "1       2        52   11690\n",
            "2       2        53   11351\n",
            "3       2        54   10300\n",
            "4       2        55    8983\n",
            "Artists Data:\n",
            "   id               name                                         url  \\\n",
            "0   1       MALICE MIZER       http://www.last.fm/music/MALICE+MIZER   \n",
            "1   2    Diary of Dreams    http://www.last.fm/music/Diary+of+Dreams   \n",
            "2   3  Carpathian Forest  http://www.last.fm/music/Carpathian+Forest   \n",
            "3   4       Moi dix Mois       http://www.last.fm/music/Moi+dix+Mois   \n",
            "4   5        Bella Morte        http://www.last.fm/music/Bella+Morte   \n",
            "\n",
            "                                          pictureURL  \n",
            "0    http://userserve-ak.last.fm/serve/252/10808.jpg  \n",
            "1  http://userserve-ak.last.fm/serve/252/3052066.jpg  \n",
            "2  http://userserve-ak.last.fm/serve/252/40222717...  \n",
            "3  http://userserve-ak.last.fm/serve/252/54697835...  \n",
            "4  http://userserve-ak.last.fm/serve/252/14789013...  \n"
          ]
        }
      ]
    },
    {
      "cell_type": "code",
      "source": [
        "# Quick info about the datasets\n",
        "user_artists.info()\n",
        "artists.info()\n",
        "\n",
        "# Check for missing values\n",
        "print(\"\\nMissing values in user_artists:\\n\", user_artists.isnull().sum())\n",
        "print(\"\\nMissing values in artists:\\n\", artists.isnull().sum())\n",
        "\n",
        "# Remove duplicates in user_artists\n",
        "initial_count = len(user_artists)\n",
        "user_artists.drop_duplicates(inplace=True)\n",
        "print(f\"\\nRemoved {initial_count - len(user_artists)} duplicates.\")\n",
        "\n",
        "# Normalize weights to a 0-1 scale\n",
        "# user_artists['weight'] = (user_artists['weight'] - user_artists['weight'].min()) / (user_artists['weight'].max() - user_artists['weight'].min())"
      ],
      "metadata": {
        "colab": {
          "base_uri": "https://localhost:8080/"
        },
        "collapsed": true,
        "id": "m8BmTcUK3Tac",
        "outputId": "057ab00f-cdb9-4cfb-b4dd-ea157c6233ad"
      },
      "execution_count": 35,
      "outputs": [
        {
          "output_type": "stream",
          "name": "stdout",
          "text": [
            "<class 'pandas.core.frame.DataFrame'>\n",
            "RangeIndex: 92834 entries, 0 to 92833\n",
            "Data columns (total 3 columns):\n",
            " #   Column    Non-Null Count  Dtype\n",
            "---  ------    --------------  -----\n",
            " 0   userID    92834 non-null  int64\n",
            " 1   artistID  92834 non-null  int64\n",
            " 2   weight    92834 non-null  int64\n",
            "dtypes: int64(3)\n",
            "memory usage: 2.1 MB\n",
            "<class 'pandas.core.frame.DataFrame'>\n",
            "RangeIndex: 17632 entries, 0 to 17631\n",
            "Data columns (total 4 columns):\n",
            " #   Column      Non-Null Count  Dtype \n",
            "---  ------      --------------  ----- \n",
            " 0   id          17632 non-null  int64 \n",
            " 1   name        17632 non-null  object\n",
            " 2   url         17632 non-null  object\n",
            " 3   pictureURL  17188 non-null  object\n",
            "dtypes: int64(1), object(3)\n",
            "memory usage: 551.1+ KB\n",
            "\n",
            "Missing values in user_artists:\n",
            " userID      0\n",
            "artistID    0\n",
            "weight      0\n",
            "dtype: int64\n",
            "\n",
            "Missing values in artists:\n",
            " id              0\n",
            "name            0\n",
            "url             0\n",
            "pictureURL    444\n",
            "dtype: int64\n",
            "\n",
            "Removed 0 duplicates.\n"
          ]
        }
      ]
    },
    {
      "cell_type": "code",
      "source": [
        "def normalize_weights(user_artists):\n",
        "    user_artists['log_weight'] = np.log1p(user_artists['weight'])  # Use log1p to handle zero weights\n",
        "    min_log_weight = user_artists['log_weight'].min()\n",
        "    max_log_weight = user_artists['log_weight'].max()\n",
        "\n",
        "    # Normalize the log-transformed weights to the range [1, 5]\n",
        "    user_artists['normalized_weight'] = 1 + 4 * (user_artists['log_weight'] - min_log_weight) / (max_log_weight - min_log_weight)\n",
        "\n",
        "    return user_artists\n",
        "\n",
        "user_artists = normalize_weights(user_artists)\n",
        "\n",
        "# Check the range after normalization\n",
        "print(\"Log-transformed and normalized weight range:\", user_artists['normalized_weight'].min(), \"-\", user_artists['normalized_weight'].max())"
      ],
      "metadata": {
        "colab": {
          "base_uri": "https://localhost:8080/"
        },
        "collapsed": true,
        "id": "c7VZWt4RJnWA",
        "outputId": "739c7009-d3f0-425c-f1e1-f871605b4cf8"
      },
      "execution_count": 36,
      "outputs": [
        {
          "output_type": "stream",
          "name": "stdout",
          "text": [
            "Log-transformed and normalized weight range: 1.0 - 5.0\n"
          ]
        }
      ]
    },
    {
      "cell_type": "markdown",
      "source": [
        "## Model Training\n",
        "\n",
        "Training a collaborative filtering model using Singular Value Decomposition (SVD)"
      ],
      "metadata": {
        "id": "RCjdHgQL7kbI"
      }
    },
    {
      "cell_type": "code",
      "source": [
        "from surprise import SVD, Dataset, Reader\n",
        "from surprise import Dataset, Reader\n",
        "from surprise.model_selection import train_test_split\n",
        "\n",
        "def transform_data(user_artists):\n",
        "    reader = Reader(rating_scale=(1, 5))\n",
        "    data = Dataset.load_from_df(user_artists[['userID', 'artistID', 'normalized_weight']], reader)\n",
        "    print(\"Data loaded into Surprise format\")\n",
        "\n",
        "    trainset, testset = train_test_split(data, test_size=0.2)\n",
        "\n",
        "    return trainset, testset\n",
        "\n",
        "trainset, testset = transform_data(user_artists)\n",
        "print(f\"Training set size: {trainset.n_ratings}\")\n",
        "print(f\"Test set size: {len(testset)}\")"
      ],
      "metadata": {
        "colab": {
          "base_uri": "https://localhost:8080/"
        },
        "id": "3Ee0F4YD7vjW",
        "outputId": "d99b6ddf-cce2-46e5-f114-f3c5328c9d5c"
      },
      "execution_count": 37,
      "outputs": [
        {
          "output_type": "stream",
          "name": "stdout",
          "text": [
            "Data loaded into Surprise format\n",
            "Training set size: 74267\n",
            "Test set size: 18567\n"
          ]
        }
      ]
    },
    {
      "cell_type": "code",
      "source": [
        "model = SVD(\n",
        "    n_factors=150,\n",
        "    n_epochs=40,\n",
        "    reg_all=0.015,\n",
        "    lr_all=0.005\n",
        ")\n",
        "model.fit(trainset)\n",
        "print(\"Training complete.\")"
      ],
      "metadata": {
        "colab": {
          "base_uri": "https://localhost:8080/"
        },
        "id": "wsxPOKhG8Flv",
        "outputId": "d46ffb04-cc2b-4a45-89cb-735f3a5e1027"
      },
      "execution_count": 38,
      "outputs": [
        {
          "output_type": "stream",
          "name": "stdout",
          "text": [
            "Training complete.\n"
          ]
        }
      ]
    },
    {
      "cell_type": "markdown",
      "source": [
        "## Model Evaluation\n",
        "\n",
        "Evaluate the performance of the model using the test set"
      ],
      "metadata": {
        "id": "UqiAieK0_CPX"
      }
    },
    {
      "cell_type": "code",
      "source": [
        "from surprise import accuracy\n",
        "\n",
        "predictions = model.test(testset)\n",
        "\n",
        "rmse = accuracy.rmse(predictions)\n",
        "mae = accuracy.mae(predictions)"
      ],
      "metadata": {
        "colab": {
          "base_uri": "https://localhost:8080/"
        },
        "id": "UvRrM3Lt_Hhx",
        "outputId": "f16476d4-9155-4a36-8adc-26c5750ac153"
      },
      "execution_count": 39,
      "outputs": [
        {
          "output_type": "stream",
          "name": "stdout",
          "text": [
            "RMSE: 0.2854\n",
            "MAE:  0.2142\n"
          ]
        }
      ]
    },
    {
      "cell_type": "code",
      "source": [
        "def plot_error():\n",
        "    # Extract actual and predicted values from the predictions\n",
        "    actual = [pred.r_ui for pred in predictions]\n",
        "    predicted = [pred.est for pred in predictions]\n",
        "    errors = np.array(actual) - np.array(predicted)\n",
        "\n",
        "    # Plot data\n",
        "    plt.figure(figsize=(12, 6))\n",
        "    sns.violinplot(x=errors, color='skyblue', density_norm='width', inner=None)\n",
        "    plt.axvline(x=0, color='red', linestyle='--', linewidth=1)\n",
        "    plt.xlim(-0.75, 0.75)\n",
        "\n",
        "    plt.title('Error Distribution', fontsize=16)\n",
        "    plt.xlabel('Error', fontsize=14)\n",
        "    plt.ylabel('Density', fontsize=14)\n",
        "    plt.grid(True, linestyle='--', alpha=0.6)\n",
        "\n",
        "    plt.show()\n",
        "\n",
        "plot_error()"
      ],
      "metadata": {
        "colab": {
          "base_uri": "https://localhost:8080/",
          "height": 571
        },
        "collapsed": true,
        "id": "cqOBxkgvSQoa",
        "outputId": "be0356b3-627d-4b36-89b7-20fcad8c3794"
      },
      "execution_count": 40,
      "outputs": [
        {
          "output_type": "display_data",
          "data": {
            "text/plain": [
              "<Figure size 1200x600 with 1 Axes>"
            ],
            "image/png": "[encoded data removed]"
          },
          "metadata": {}
        }
      ]
    },
    {
      "cell_type": "code",
      "source": [
        "from collections import defaultdict\n",
        "\n",
        "def precision_recall_at_k(predictions, k, threshold):\n",
        "    \"\"\"\n",
        "    Calculate precision and recall (and F1 score)\n",
        "    \"\"\"\n",
        "    from collections import defaultdict\n",
        "\n",
        "    user_est_true = defaultdict(list)\n",
        "    for pred in predictions:\n",
        "        # (predicted, actual)\n",
        "        user_est_true[pred.uid].append((pred.est, pred.r_ui))\n",
        "\n",
        "    precisions = []\n",
        "    recalls = []\n",
        "    f1_scores = []\n",
        "\n",
        "    for uid, user_ratings in user_est_true.items():\n",
        "        user_ratings.sort(key=lambda x: x[0], reverse=True)\n",
        "        top_k = user_ratings[:k]\n",
        "\n",
        "        # Calculate the number of relevant items based on a rating threshold\n",
        "        n_relevant = sum(1 for (pred, actual) in top_k if actual >= threshold)\n",
        "        n_relevant_total = sum(1 for (pred, actual) in user_ratings if actual >= threshold)\n",
        "\n",
        "        precision = n_relevant / k if k > 0 else 0\n",
        "        recall = n_relevant / n_relevant_total if n_relevant_total > 0 else 0\n",
        "        precisions.append(precision)\n",
        "        recalls.append(recall)\n",
        "\n",
        "        f1 = 2 * (precision * recall) / (precision + recall) if precision + recall > 0 else 0\n",
        "        f1_scores.append(f1)\n",
        "\n",
        "    avg_precision = sum(precisions) / len(precisions) if precisions else 0\n",
        "    avg_recall = sum(recalls) / len(recalls) if recalls else 0\n",
        "    avg_f1 = sum(f1_scores) / len(f1_scores) if f1_scores else 0\n",
        "\n",
        "    return avg_precision, avg_recall, avg_f1\n",
        "\n",
        "# Print precision, recall, F1 score for varying k and threshold\n",
        "for k in [5, 10, 20]:\n",
        "    for thresh in [0.5, 1.0, 2.0]:\n",
        "        precision, recall, f1 = precision_recall_at_k(predictions, k, thresh)\n",
        "        print(f\"k={k}, threshold={thresh} -> Precision: {precision:.4f}, Recall: {recall:.4f}, F1 Score: {f1:.4f}\")"
      ],
      "metadata": {
        "colab": {
          "base_uri": "https://localhost:8080/"
        },
        "collapsed": true,
        "id": "Pm7zUI6DY2Jy",
        "outputId": "5be31f34-938c-4641-ed4b-c18c4173b1b3"
      },
      "execution_count": 41,
      "outputs": [
        {
          "output_type": "stream",
          "name": "stdout",
          "text": [
            "k=5, threshold=0.5 -> Precision: 0.9850, Recall: 0.5511, F1 Score: 0.6849\n",
            "k=5, threshold=1.0 -> Precision: 0.9850, Recall: 0.5511, F1 Score: 0.6849\n",
            "k=5, threshold=2.0 -> Precision: 0.8795, Recall: 0.5260, F1 Score: 0.6279\n",
            "k=10, threshold=0.5 -> Precision: 0.8740, Recall: 0.9185, F1 Score: 0.8738\n",
            "k=10, threshold=1.0 -> Precision: 0.8740, Recall: 0.9185, F1 Score: 0.8738\n",
            "k=10, threshold=2.0 -> Precision: 0.7810, Recall: 0.8794, F1 Score: 0.7953\n",
            "k=20, threshold=0.5 -> Precision: 0.4922, Recall: 1.0000, F1 Score: 0.6457\n",
            "k=20, threshold=1.0 -> Precision: 0.4922, Recall: 1.0000, F1 Score: 0.6457\n",
            "k=20, threshold=2.0 -> Precision: 0.4395, Recall: 0.9565, F1 Score: 0.5832\n"
          ]
        }
      ]
    },
    {
      "cell_type": "code",
      "source": [
        "def get_recommendations(user_id, n_recommendations=5, threshold=0.75):\n",
        "    \"\"\"\n",
        "    Generate top n artist recommendations for a given user\n",
        "    \"\"\"\n",
        "    all_artists = user_artists['artistID'].unique()\n",
        "    predictions = [model.predict(user_id, artist_id) for artist_id in all_artists]\n",
        "    filtered_predictions = [pred for pred in predictions if pred.est >= threshold]\n",
        "    filtered_predictions.sort(key=lambda k: k.est, reverse=True)\n",
        "    top_artists = [pred.iid for pred in filtered_predictions[:n_recommendations]]\n",
        "    recommended_artists = artists[artists['id'].isin(top_artists)]['name'].tolist()\n",
        "\n",
        "    return recommended_artists\n",
        "\n",
        "user_id = 2\n",
        "recommendations = get_recommendations(user_id)\n",
        "print(f\"Top recommendations for user {user_id}: {recommendations}\")"
      ],
      "metadata": {
        "colab": {
          "base_uri": "https://localhost:8080/"
        },
        "id": "Atmbl8cA_b5H",
        "outputId": "907ad16d-b1ef-4775-d379-c8856b5b7ac0"
      },
      "execution_count": 42,
      "outputs": [
        {
          "output_type": "stream",
          "name": "stdout",
          "text": [
            "Top recommendations for user 2: ['Beyoncé', 'Provision', 'Avenged Sevenfold', 'Derdian', 'Chelsie Boyd']\n"
          ]
        }
      ]
    }
  ]
}