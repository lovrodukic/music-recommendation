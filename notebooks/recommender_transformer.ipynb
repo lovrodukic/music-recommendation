{
  "nbformat": 4,
  "nbformat_minor": 0,
  "metadata": {
    "colab": {
      "provenance": [],
      "authorship_tag": "ABX9TyN+FIWcxNsbu7nyp7GL4aBZ",
      "include_colab_link": true
    },
    "kernelspec": {
      "name": "python3",
      "display_name": "Python 3"
    },
    "language_info": {
      "name": "python"
    }
  },
  "cells": [
    {
      "cell_type": "markdown",
      "metadata": {
        "id": "view-in-github",
        "colab_type": "text"
      },
      "source": [
        "<a href=\"https://colab.research.google.com/github/lovrodukic/music-recommendation/blob/main/notebooks/recommender_transformer.ipynb\" target=\"_parent\"><img src=\"https://colab.research.google.com/assets/colab-badge.svg\" alt=\"Open In Colab\"/></a>"
      ]
    },
    {
      "cell_type": "markdown",
      "source": [
        "# Data Preprocessing"
      ],
      "metadata": {
        "id": "RxRPHEbBmkiF"
      }
    },
    {
      "cell_type": "code",
      "execution_count": null,
      "metadata": {
        "id": "D-5nr2fjk1By"
      },
      "outputs": [],
      "source": [
        "!pip install numpy pandas faiss-cpu requests sentence_transformers"
      ]
    },
    {
      "cell_type": "code",
      "source": [
        "import pandas as pd\n",
        "\n",
        "df = pd.read_csv('music.csv')\n",
        "df = df.drop(columns=['link'])\n",
        "df"
      ],
      "metadata": {
        "id": "lFln_w-KniY_"
      },
      "execution_count": null,
      "outputs": []
    },
    {
      "cell_type": "code",
      "source": [
        "def create_textual_representation(row):\n",
        "    textual_representation = f\"\"\"Artist: {row['artist']},\n",
        "Song: {row['song']},\n",
        "Text: {row['text']}\"\"\"\n",
        "\n",
        "    return textual_representation\n",
        "\n",
        "df['textual_representation'] = df.apply(create_textual_representation, axis=1)\n",
        "print(df['textual_representation'].values[0])"
      ],
      "metadata": {
        "id": "yjcg4pAl0DrU"
      },
      "execution_count": null,
      "outputs": []
    },
    {
      "cell_type": "code",
      "source": [
        "import faiss\n",
        "import requests\n",
        "import numpy as np\n",
        "from sentence_transformers import SentenceTransformer\n",
        "\n",
        "def create_database():\n",
        "    dim = 384  # Adjust this based on the embedding model\n",
        "    model = SentenceTransformer('sentence-transformers/all-MiniLM-L6-v2')\n",
        "\n",
        "    # Initialize FAISS index\n",
        "    index = faiss.IndexFlatL2(dim)\n",
        "    X = np.zeros((len(df['textual_representation']), dim), dtype='float32')\n",
        "\n",
        "    for i, representation in enumerate(df['textual_representation']):\n",
        "        if i % 100 == 0:\n",
        "            print(f\"Processed {i} instances\")\n",
        "\n",
        "        # Generate embedding locally\n",
        "        embedding = model.encode(representation)\n",
        "        X[i] = np.array(embedding)\n",
        "\n",
        "    index.add(X)\n",
        "    return index\n",
        "\n",
        "faiss_index = create_database()\n",
        "faiss.write_index(faiss_index, 'index')"
      ],
      "metadata": {
        "collapsed": true,
        "id": "SHsKRQ8F1auA"
      },
      "execution_count": null,
      "outputs": []
    },
    {
      "cell_type": "code",
      "source": [
        "index = faiss.read_index('index')"
      ],
      "metadata": {
        "id": "Wx0tiypmYwDJ"
      },
      "execution_count": null,
      "outputs": []
    },
    {
      "cell_type": "code",
      "source": [
        "df[df.song.str.contains('Bohemian')]"
      ],
      "metadata": {
        "id": "QsTM1qNeY3pe"
      },
      "execution_count": null,
      "outputs": []
    },
    {
      "cell_type": "code",
      "source": [
        "def find_song(favorite_song, index, df, n_recommendations=5):\n",
        "    model = SentenceTransformer('sentence-transformers/all-MiniLM-L6-v2')\n",
        "\n",
        "\n",
        "    favorite_song_text = favorite_song['textual_representation']\n",
        "    favorite_song_embedding = np.array(\n",
        "        model.encode(favorite_song_text)\n",
        "    ).reshape(1, -1)\n",
        "\n",
        "    D, I = index.search(favorite_song_embedding, n_recommendations + 1)\n",
        "    indices = I.flatten()\n",
        "    distances = D.flatten()\n",
        "\n",
        "    favorite_song_index = favorite_song.name\n",
        "\n",
        "    filtered_results = [(dist, idx) for dist, idx in zip(distances, indices) if idx != favorite_song_index]\n",
        "    filtered_results = filtered_results[:n_recommendations]\n",
        "    final_distances, final_indices = zip(*filtered_results)\n",
        "\n",
        "    return np.array(final_distances), np.array(final_indices)\n",
        "\n",
        "favorite_song = df.iloc[49284]\n",
        "\n",
        "_, I = find_song(favorite_song, index, df, n_recommendations=5)\n",
        "\n",
        "top_indices = I.flatten()\n",
        "top_recommendations = df.iloc[top_indices]\n",
        "\n",
        "# Print recommendations\n",
        "print(f\"Top recommendations based on '{favorite_song.song}' by {favorite_song.artist}\")\n",
        "for i, (_, row) in enumerate(top_recommendations.iterrows(), start=1):\n",
        "    print(f\"{i}. {row['artist']} - {row['song']}\")"
      ],
      "metadata": {
        "id": "aMtvxqFmZDxB"
      },
      "execution_count": null,
      "outputs": []
    }
  ]
}